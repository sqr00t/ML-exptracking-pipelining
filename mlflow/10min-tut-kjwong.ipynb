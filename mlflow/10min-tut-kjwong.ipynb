{
 "cells": [
  {
   "cell_type": "code",
   "execution_count": null,
   "metadata": {},
   "outputs": [],
   "source": [
    "## Track parameters\n",
    "#mlflow.log_param(\"max_depth\", 20)\n",
    "## Track metrics\n",
    "#mlflow.log_metric(\"rmse\", 0.5)\n",
    "## Track artifact\n",
    "#mlflow.log_artifact(\"myGraph\", \"/path/graph.png\")\n",
    "## Track model (depends on model type)\n",
    "#mlflow.sklearn.log_model(model, \"myModel\")\n",
    "#mlflow.keras.log_model(model, \"myModel\")\n",
    "#mlflow.pytorch.log_model(model, \"myModel\")"
   ]
  },
  {
   "cell_type": "code",
   "execution_count": null,
   "metadata": {},
   "outputs": [],
   "source": [
    "import mlflow\n",
    "\n",
    "from sklearn.datasets import load_iris\n",
    "from sklearn.metrics import accuracy_score\n",
    "from sklearn.model_selection import train_test_split\n",
    "from sklearn.tree import DecisionTreeClassifier\n",
    "\n",
    "iris = load_iris()\n",
    "X, y = iris.data, iris.target\n",
    "X_train, X_test, y_train, y_test = train_test_split(\n",
    "    X, y, test_size=0.2, random_state=123\n",
    ")\n",
    "\n",
    "EXPERIMENT_NAME = \"mlflow-demo\"\n",
    "EXPERIMENT_ID = mlflow.create_experiment(EXPERIMENT_NAME)\n",
    "\n",
    "for idx, depth in enumerate([1, 2, 5, 10, 20]):\n",
    "    clf = DecisionTreeClassifier(max_depth=depth)\n",
    "    clf.fit(X_train, y_train)\n",
    "    y_pred = clf.predict(X_test)\n",
    "    accuracy = accuracy_score(y_test, y_pred)\n",
    "\n",
    "    # Start MLflow\n",
    "    RUN_NAME = f\"run_{idx}\"\n",
    "    with mlflow.start_run(experiment_id=EXPERIMENT_ID, run_name=RUN_NAME) as run:\n",
    "        # Retrieve run id\n",
    "        RUN_ID = run.info.run_id\n",
    "\n",
    "        # Track parameters\n",
    "        mlflow.log_param(\"depth\", depth)\n",
    "\n",
    "        # Track metrics\n",
    "        mlflow.log_metric(\"accuracy\", accuracy)\n",
    "\n",
    "        # Track model\n",
    "        mlflow.sklearn.log_model(clf, \"classifier\")"
   ]
  }
 ],
 "metadata": {
  "language_info": {
   "name": "python"
  },
  "orig_nbformat": 4
 },
 "nbformat": 4,
 "nbformat_minor": 2
}
